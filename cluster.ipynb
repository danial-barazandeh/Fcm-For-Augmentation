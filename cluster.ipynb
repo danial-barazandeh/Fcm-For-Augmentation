{
 "cells": [
  {
   "cell_type": "code",
   "execution_count": 1,
   "metadata": {},
   "outputs": [],
   "source": [
    "import os\n",
    "import cv2\n",
    "import matplotlib.pyplot as plt\n",
    "import numpy as np\n",
    "from PIL import Image\n",
    "from fcmeans import FCM"
   ]
  },
  {
   "cell_type": "code",
   "execution_count": 2,
   "metadata": {},
   "outputs": [],
   "source": [
    "directory = os.fsencode('./dataset/validation/not')"
   ]
  },
  {
   "cell_type": "code",
   "execution_count": 3,
   "metadata": {},
   "outputs": [],
   "source": [
    "for file in os.listdir(directory):\n",
    "    filename = os.fsdecode(file)\n",
    "    if filename.endswith(\".jpg\") or filename.endswith(\".png\") :\n",
    "\n",
    "        image = Image.open(f\"./dataset/validation/not/\"+f\"{filename}\")  \n",
    "       \n",
    "        N, M = image.size \n",
    "        X = (\n",
    "            np.asarray(image)                              # convert a PIL image to np array\n",
    "            .reshape((N*M, 3))                             # reshape the image to convert each pixel to an instance of a data set\n",
    "        )\n",
    "\n",
    "        fcm = FCM(n_clusters=6)                           # create a FCM instance with 6 clusters\n",
    "        fcm.fit(X)\n",
    "\n",
    "        labeld_X = fcm.predict(X)                          # get the label of each data point\n",
    "        transformed_X = fcm.centers[labeld_X]              # pixel quantization into the centers\n",
    "\n",
    "        quatized_array = (\n",
    "            transformed_X\n",
    "            .astype('uint8')                               # convert data points into 8-bit unsigned integers\n",
    "            .reshape((M, N, 3))                            # reshape image\n",
    "        )\n",
    "\n",
    "        quatized_image = Image.fromarray(np.asarray(quatized_array))   # convert array into a PIL image object\n",
    "        quatized_image.save('./dataset/cluster/validation/not/'+filename) # save image\n",
    "\n",
    "        continue\n",
    "    else:\n",
    "        continue"
   ]
  }
 ],
 "metadata": {
  "kernelspec": {
   "display_name": "Python 3",
   "language": "python",
   "name": "python3"
  },
  "language_info": {
   "codemirror_mode": {
    "name": "ipython",
    "version": 3
   },
   "file_extension": ".py",
   "mimetype": "text/x-python",
   "name": "python",
   "nbconvert_exporter": "python",
   "pygments_lexer": "ipython3",
   "version": "3.10.10"
  },
  "orig_nbformat": 4
 },
 "nbformat": 4,
 "nbformat_minor": 2
}
